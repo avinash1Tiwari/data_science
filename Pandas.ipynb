{
 "cells": [
  {
   "cell_type": "code",
   "execution_count": 8,
   "id": "b22e88b0-ad8d-4e1c-9adc-6d2ecbe57f3b",
   "metadata": {
    "editable": true,
    "slideshow": {
     "slide_type": ""
    },
    "tags": []
   },
   "outputs": [],
   "source": [
    "# import pandas as pd\n",
    "\n",
    "# pd.read_csv('organizations.csv')\n",
    "# print(pd.__version__)"
   ]
  },
  {
   "cell_type": "code",
   "execution_count": 2,
   "id": "ee50462b-e88a-459d-bd83-473255423e28",
   "metadata": {},
   "outputs": [],
   "source": [
    "# data = pd.read_csv('organizations.csv')\n",
    "# data.head()\n",
    "# data.head(3)\n",
    "# data.tail()\n",
    "# data.tail(3)"
   ]
  },
  {
   "cell_type": "code",
   "execution_count": 1,
   "id": "6edae85c-b999-4238-b857-6b77e2216e80",
   "metadata": {},
   "outputs": [],
   "source": [
    "import pandas as pd\n",
    "\n",
    "# pd.read_excel('Sample-Employee-Data.xlsx',header=None)\n",
    "# data2 = pd.read_html(\"https://www.basketball-reference.com/players/e/embiijo01.html\")\n",
    "# data2\n",
    "\n",
    "# type(data2)\n",
    "\n",
    "# len(data2)\n",
    "\n",
    "# data2[0].to_csv('table1.csv')\n",
    "\n",
    "\n",
    "\n",
    "# data3 = pd.read_html('https://www.w3schools.com/python/pandas/pandas_cleaning.asp')\n",
    "\n",
    "# !pip install lmxl"
   ]
  },
  {
   "cell_type": "code",
   "execution_count": null,
   "id": "30207467-0634-434a-ae00-920894eef4bf",
   "metadata": {},
   "outputs": [],
   "source": []
  }
 ],
 "metadata": {
  "kernelspec": {
   "display_name": "Python 3 (ipykernel)",
   "language": "python",
   "name": "python3"
  },
  "language_info": {
   "codemirror_mode": {
    "name": "ipython",
    "version": 3
   },
   "file_extension": ".py",
   "mimetype": "text/x-python",
   "name": "python",
   "nbconvert_exporter": "python",
   "pygments_lexer": "ipython3",
   "version": "3.11.7"
  }
 },
 "nbformat": 4,
 "nbformat_minor": 5
}
